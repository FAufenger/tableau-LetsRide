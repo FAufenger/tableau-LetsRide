{
 "cells": [
  {
   "cell_type": "code",
   "execution_count": 2,
   "metadata": {},
   "outputs": [],
   "source": [
    "import pandas as pd"
   ]
  },
  {
   "cell_type": "markdown",
   "metadata": {},
   "source": [
    "## JC CitiBIkes"
   ]
  },
  {
   "cell_type": "code",
   "execution_count": null,
   "metadata": {},
   "outputs": [],
   "source": [
    "df2019_01 = pd.read_csv('./Resources/201901-citibike-tripdata.csv')\n",
    "df2019_01.head()"
   ]
  },
  {
   "cell_type": "code",
   "execution_count": null,
   "metadata": {},
   "outputs": [],
   "source": [
    "df_combined.concat(pd.read_csv(f\"./Resources/201901-citibike-tripdata.csv\"),pd.read_csv(f\"./Resources/201902-citibike-tripdata.csv\"))"
   ]
  },
  {
   "cell_type": "code",
   "execution_count": null,
   "metadata": {},
   "outputs": [],
   "source": [
    "year_date = [201901, 201902, 201903, 201904, 201905, 201906, 201907, 201908, 201909, 201910, 201911, 201912\n",
    "             , 202001, 202002, 202003, 202004, 202005, 202006, 202007, 202008, 202009, 202010, 202011, 202012]\n",
    "df_combined = []\n",
    "\n",
    "for file in year_date:\n",
    "    df_combined.concat(pd.read_csv(f\"./Resources/201901-citibike-tripdata.csv\"),pd.read_csv(f\"./Resources/201902-citibike-tripdata.csv\"))"
   ]
  },
  {
   "cell_type": "code",
   "execution_count": 1,
   "metadata": {},
   "outputs": [],
   "source": [
    "import os\n",
    "import glob\n",
    "import pandas as pd\n",
    "os.chdir(\"C:/Users/Richa/Desktop/data_analytics/homework/tableau-cityBike/Resources/JerseyCity\")"
   ]
  },
  {
   "cell_type": "code",
   "execution_count": 2,
   "metadata": {},
   "outputs": [],
   "source": [
    "extension = 'csv'\n",
    "all_filenames = [i for i in glob.glob('*.{}'.format(extension))]"
   ]
  },
  {
   "cell_type": "code",
   "execution_count": 3,
   "metadata": {},
   "outputs": [
    {
     "data": {
      "text/plain": [
       "['JC-201604-citibike-tripdata.csv',\n",
       " 'JC-201605-citibike-tripdata.csv',\n",
       " 'JC-201606-citibike-tripdata.csv',\n",
       " 'JC-201607-citibike-tripdata.csv',\n",
       " 'JC-201608-citibike-tripdata.csv',\n",
       " 'JC-201609-citibike-tripdata.csv',\n",
       " 'JC-20161-citibike-tripdata.csv',\n",
       " 'JC-201610-citibike-tripdata.csv',\n",
       " 'JC-201611-citibike-tripdata.csv',\n",
       " 'JC-201612-citibike-tripdata.csv',\n",
       " 'JC-20162-citibike-tripdata.csv',\n",
       " 'JC-20163-citibike-tripdata.csv',\n",
       " 'JC-201701-citibike-tripdata.csv',\n",
       " 'JC-201702-citibike-tripdata.csv',\n",
       " 'JC-201703-citibike-tripdata.csv',\n",
       " 'JC-201704-citibike-tripdata.csv',\n",
       " 'JC-201705-citibike-tripdata.csv',\n",
       " 'JC-201706-citibike-tripdata.csv',\n",
       " 'JC-201707-citibike-tripdata.csv',\n",
       " 'JC-201708 citibike-tripdata.csv',\n",
       " 'JC-201709-citibike-tripdata.csv',\n",
       " 'JC-201710-citibike-tripdata.csv',\n",
       " 'JC-201711-citibike-tripdata.csv',\n",
       " 'JC-201712-citibike-tripdata.csv',\n",
       " 'JC-201801-citibike-tripdata.csv',\n",
       " 'JC-201802-citibike-tripdata.csv',\n",
       " 'JC-201803-citibike-tripdata.csv',\n",
       " 'JC-201804-citibike-tripdata.csv',\n",
       " 'JC-201805-citibike-tripdata.csv',\n",
       " 'JC-201806-citibike-tripdata.csv',\n",
       " 'JC-201807-citibike-tripdata.csv',\n",
       " 'JC-201808-citibike-tripdata.csv',\n",
       " 'JC-201809-citibike-tripdata.csv',\n",
       " 'JC-201810-citibike-tripdata.csv',\n",
       " 'JC-201811-citibike-tripdata.csv',\n",
       " 'JC-201812-citibike-tripdata.csv',\n",
       " 'JC-201901-citibike-tripdata.csv',\n",
       " 'JC-201902-citibike-tripdata.csv',\n",
       " 'JC-201903-citibike-tripdata.csv',\n",
       " 'JC-201904-citibike-tripdata.csv',\n",
       " 'JC-201905-citibike-tripdata.csv',\n",
       " 'JC-201906-citibike-tripdata.csv',\n",
       " 'JC-201907-citibike-tripdata.csv',\n",
       " 'JC-201908-citibike-tripdata.csv',\n",
       " 'JC-201909-citibike-tripdata.csv',\n",
       " 'JC-201910-citibike-tripdata.csv',\n",
       " 'JC-201911-citibike-tripdata.csv',\n",
       " 'JC-201912-citibike-tripdata.csv',\n",
       " 'JC-202001-citibike-tripdata.csv',\n",
       " 'JC-202002-citibike-tripdata.csv',\n",
       " 'JC-202003-citibike-tripdata.csv',\n",
       " 'JC-202004-citibike-tripdata.csv',\n",
       " 'JC-202005-citibike-tripdata.csv',\n",
       " 'JC-202006-citibike-tripdata.csv',\n",
       " 'JC-202007-citibike-tripdata.csv',\n",
       " 'JC-202008-citibike-tripdata.csv',\n",
       " 'JC-202009-citibike-tripdata.csv',\n",
       " 'JC-202010-citibike-tripdata.csv',\n",
       " 'JC-202011-citibike-tripdata.csv',\n",
       " 'JC-202012-citibike-tripdata.csv']"
      ]
     },
     "execution_count": 3,
     "metadata": {},
     "output_type": "execute_result"
    }
   ],
   "source": [
    "all_filenames"
   ]
  },
  {
   "cell_type": "code",
   "execution_count": 4,
   "metadata": {},
   "outputs": [],
   "source": [
    "#combine all files in the list\n",
    "combined_csv = pd.concat([pd.read_csv(f) for f in all_filenames ])"
   ]
  },
  {
   "cell_type": "code",
   "execution_count": 5,
   "metadata": {},
   "outputs": [
    {
     "data": {
      "text/plain": [
       "1638153"
      ]
     },
     "execution_count": 5,
     "metadata": {},
     "output_type": "execute_result"
    }
   ],
   "source": [
    "len(combined_csv)"
   ]
  },
  {
   "cell_type": "code",
   "execution_count": 6,
   "metadata": {},
   "outputs": [],
   "source": [
    "#export to csv\n",
    "combined_csv.to_csv( \"combined_csv.csv\", index=False, encoding='utf-8-sig')"
   ]
  },
  {
   "cell_type": "code",
   "execution_count": null,
   "metadata": {},
   "outputs": [],
   "source": []
  },
  {
   "cell_type": "markdown",
   "metadata": {},
   "source": [
    "## Pandemic"
   ]
  },
  {
   "cell_type": "code",
   "execution_count": 29,
   "metadata": {},
   "outputs": [],
   "source": [
    "df_hudson_covid = pd.read_csv('./Resources/covid_hudosn_county.csv')\n",
    "df_hudson_covid.reset_index(drop=True, inplace=True)"
   ]
  },
  {
   "cell_type": "code",
   "execution_count": 30,
   "metadata": {},
   "outputs": [],
   "source": [
    "# df_hudson_covid.drop(['index'],axis=1)"
   ]
  },
  {
   "cell_type": "code",
   "execution_count": 31,
   "metadata": {},
   "outputs": [
    {
     "data": {
      "text/html": [
       "<div>\n",
       "<style scoped>\n",
       "    .dataframe tbody tr th:only-of-type {\n",
       "        vertical-align: middle;\n",
       "    }\n",
       "\n",
       "    .dataframe tbody tr th {\n",
       "        vertical-align: top;\n",
       "    }\n",
       "\n",
       "    .dataframe thead th {\n",
       "        text-align: right;\n",
       "    }\n",
       "</style>\n",
       "<table border=\"1\" class=\"dataframe\">\n",
       "  <thead>\n",
       "    <tr style=\"text-align: right;\">\n",
       "      <th></th>\n",
       "      <th>countyFIPS</th>\n",
       "      <th>County Name</th>\n",
       "      <th>State</th>\n",
       "      <th>StateFIPS</th>\n",
       "      <th>2020-01-22</th>\n",
       "      <th>2020-01-23</th>\n",
       "      <th>2020-01-24</th>\n",
       "      <th>2020-01-25</th>\n",
       "      <th>2020-01-26</th>\n",
       "      <th>2020-01-27</th>\n",
       "      <th>...</th>\n",
       "      <th>2021-03-31</th>\n",
       "      <th>2021-04-01</th>\n",
       "      <th>2021-04-02</th>\n",
       "      <th>2021-04-03</th>\n",
       "      <th>2021-04-04</th>\n",
       "      <th>2021-04-05</th>\n",
       "      <th>2021-04-06</th>\n",
       "      <th>2021-04-07</th>\n",
       "      <th>2021-04-08</th>\n",
       "      <th>2021-04-09</th>\n",
       "    </tr>\n",
       "  </thead>\n",
       "  <tbody>\n",
       "    <tr>\n",
       "      <th>0</th>\n",
       "      <td>34017</td>\n",
       "      <td>Hudson County</td>\n",
       "      <td>NJ</td>\n",
       "      <td>34</td>\n",
       "      <td>0</td>\n",
       "      <td>0</td>\n",
       "      <td>0</td>\n",
       "      <td>0</td>\n",
       "      <td>0</td>\n",
       "      <td>0</td>\n",
       "      <td>...</td>\n",
       "      <td>79682</td>\n",
       "      <td>80204</td>\n",
       "      <td>80614</td>\n",
       "      <td>80614</td>\n",
       "      <td>81323</td>\n",
       "      <td>81323</td>\n",
       "      <td>81819</td>\n",
       "      <td>82191</td>\n",
       "      <td>82594</td>\n",
       "      <td>82940</td>\n",
       "    </tr>\n",
       "  </tbody>\n",
       "</table>\n",
       "<p>1 rows × 448 columns</p>\n",
       "</div>"
      ],
      "text/plain": [
       "   countyFIPS     County Name State  StateFIPS  2020-01-22  2020-01-23  \\\n",
       "0       34017  Hudson County     NJ         34           0           0   \n",
       "\n",
       "   2020-01-24  2020-01-25  2020-01-26  2020-01-27  ...  2021-03-31  \\\n",
       "0           0           0           0           0  ...       79682   \n",
       "\n",
       "   2021-04-01  2021-04-02  2021-04-03  2021-04-04  2021-04-05  2021-04-06  \\\n",
       "0       80204       80614       80614       81323       81323       81819   \n",
       "\n",
       "   2021-04-07  2021-04-08  2021-04-09  \n",
       "0       82191       82594       82940  \n",
       "\n",
       "[1 rows x 448 columns]"
      ]
     },
     "execution_count": 31,
     "metadata": {},
     "output_type": "execute_result"
    }
   ],
   "source": [
    "df_hudson_covid.head()"
   ]
  },
  {
   "cell_type": "code",
   "execution_count": 32,
   "metadata": {},
   "outputs": [],
   "source": [
    "df_hudson_covid = df_hudson_covid.transpose()\n"
   ]
  },
  {
   "cell_type": "code",
   "execution_count": 40,
   "metadata": {},
   "outputs": [],
   "source": [
    "df_hudson_covid = df_hudson_covid[4:].reset_index()"
   ]
  },
  {
   "cell_type": "code",
   "execution_count": 41,
   "metadata": {},
   "outputs": [
    {
     "data": {
      "text/html": [
       "<div>\n",
       "<style scoped>\n",
       "    .dataframe tbody tr th:only-of-type {\n",
       "        vertical-align: middle;\n",
       "    }\n",
       "\n",
       "    .dataframe tbody tr th {\n",
       "        vertical-align: top;\n",
       "    }\n",
       "\n",
       "    .dataframe thead th {\n",
       "        text-align: right;\n",
       "    }\n",
       "</style>\n",
       "<table border=\"1\" class=\"dataframe\">\n",
       "  <thead>\n",
       "    <tr style=\"text-align: right;\">\n",
       "      <th></th>\n",
       "      <th>index</th>\n",
       "      <th>0</th>\n",
       "    </tr>\n",
       "  </thead>\n",
       "  <tbody>\n",
       "    <tr>\n",
       "      <th>0</th>\n",
       "      <td>2020-01-26</td>\n",
       "      <td>0</td>\n",
       "    </tr>\n",
       "    <tr>\n",
       "      <th>1</th>\n",
       "      <td>2020-01-27</td>\n",
       "      <td>0</td>\n",
       "    </tr>\n",
       "    <tr>\n",
       "      <th>2</th>\n",
       "      <td>2020-01-28</td>\n",
       "      <td>0</td>\n",
       "    </tr>\n",
       "    <tr>\n",
       "      <th>3</th>\n",
       "      <td>2020-01-29</td>\n",
       "      <td>0</td>\n",
       "    </tr>\n",
       "    <tr>\n",
       "      <th>4</th>\n",
       "      <td>2020-01-30</td>\n",
       "      <td>0</td>\n",
       "    </tr>\n",
       "  </tbody>\n",
       "</table>\n",
       "</div>"
      ],
      "text/plain": [
       "        index  0\n",
       "0  2020-01-26  0\n",
       "1  2020-01-27  0\n",
       "2  2020-01-28  0\n",
       "3  2020-01-29  0\n",
       "4  2020-01-30  0"
      ]
     },
     "execution_count": 41,
     "metadata": {},
     "output_type": "execute_result"
    }
   ],
   "source": [
    "df_hudson_covid.head()"
   ]
  },
  {
   "cell_type": "code",
   "execution_count": 42,
   "metadata": {},
   "outputs": [],
   "source": [
    "df_hudson_covid.columns= ['Date', 'Covid-Infected']"
   ]
  },
  {
   "cell_type": "code",
   "execution_count": 43,
   "metadata": {},
   "outputs": [
    {
     "data": {
      "text/html": [
       "<div>\n",
       "<style scoped>\n",
       "    .dataframe tbody tr th:only-of-type {\n",
       "        vertical-align: middle;\n",
       "    }\n",
       "\n",
       "    .dataframe tbody tr th {\n",
       "        vertical-align: top;\n",
       "    }\n",
       "\n",
       "    .dataframe thead th {\n",
       "        text-align: right;\n",
       "    }\n",
       "</style>\n",
       "<table border=\"1\" class=\"dataframe\">\n",
       "  <thead>\n",
       "    <tr style=\"text-align: right;\">\n",
       "      <th></th>\n",
       "      <th>Date</th>\n",
       "      <th>Covid-Infected</th>\n",
       "    </tr>\n",
       "  </thead>\n",
       "  <tbody>\n",
       "    <tr>\n",
       "      <th>0</th>\n",
       "      <td>2020-01-26</td>\n",
       "      <td>0</td>\n",
       "    </tr>\n",
       "    <tr>\n",
       "      <th>1</th>\n",
       "      <td>2020-01-27</td>\n",
       "      <td>0</td>\n",
       "    </tr>\n",
       "    <tr>\n",
       "      <th>2</th>\n",
       "      <td>2020-01-28</td>\n",
       "      <td>0</td>\n",
       "    </tr>\n",
       "    <tr>\n",
       "      <th>3</th>\n",
       "      <td>2020-01-29</td>\n",
       "      <td>0</td>\n",
       "    </tr>\n",
       "    <tr>\n",
       "      <th>4</th>\n",
       "      <td>2020-01-30</td>\n",
       "      <td>0</td>\n",
       "    </tr>\n",
       "  </tbody>\n",
       "</table>\n",
       "</div>"
      ],
      "text/plain": [
       "         Date Covid-Infected\n",
       "0  2020-01-26              0\n",
       "1  2020-01-27              0\n",
       "2  2020-01-28              0\n",
       "3  2020-01-29              0\n",
       "4  2020-01-30              0"
      ]
     },
     "execution_count": 43,
     "metadata": {},
     "output_type": "execute_result"
    }
   ],
   "source": [
    "df_hudson_covid.head()"
   ]
  },
  {
   "cell_type": "code",
   "execution_count": 44,
   "metadata": {},
   "outputs": [],
   "source": [
    "#export to csv\n",
    "df_hudson_covid.to_csv( \"hudson_covid_cleaned.csv\", index=False, encoding='utf-8-sig')\n"
   ]
  },
  {
   "cell_type": "code",
   "execution_count": null,
   "metadata": {},
   "outputs": [],
   "source": []
  }
 ],
 "metadata": {
  "kernelspec": {
   "display_name": "Python [conda env:PythonData]",
   "language": "python",
   "name": "conda-env-PythonData-py"
  },
  "language_info": {
   "codemirror_mode": {
    "name": "ipython",
    "version": 3
   },
   "file_extension": ".py",
   "mimetype": "text/x-python",
   "name": "python",
   "nbconvert_exporter": "python",
   "pygments_lexer": "ipython3",
   "version": "3.6.10"
  }
 },
 "nbformat": 4,
 "nbformat_minor": 4
}
